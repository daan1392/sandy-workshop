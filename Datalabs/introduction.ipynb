{
 "cells": [
  {
   "cell_type": "markdown",
   "metadata": {},
   "source": [
    "# Introduction to the Workshop\n",
    "\n",
    "Welcome to the workshop on OpenMC, Sandy, and NJOY! This notebook provides an overview of the tools we will be using and how to navigate through the workshop materials.\n",
    "\n",
    "## Overview of Tools\n",
    "\n",
    "- **OpenMC**: A community-developed code for simulating nuclear systems using Monte Carlo methods. It is widely used for neutron transport calculations.\n",
    "- **Sandy**: A tool for performing sensitivity analysis and uncertainty quantification in nuclear applications. It helps in understanding the impact of input uncertainties on output results.\n",
    "- **NJOY**: A software package for processing nuclear data. It is used to generate cross-section libraries and perform various nuclear data processing tasks.\n",
    "\n",
    "## Workshop Structure\n",
    "\n",
    "The workshop is structured into several practical exercises, each focusing on different aspects of using OpenMC, Sandy, and NJOY. You will find the exercises in the `DataLab_1.ipynb` notebook.\n",
    "\n",
    "## Getting Started\n",
    "\n",
    "To begin, ensure that you have the Docker image set up. Follow the instructions in the `README.md` file to build and run the Docker container. Once the container is running, Jupyter Notebook will open automatically in your browser.\n",
    "\n",
    "### Instructions\n",
    "\n",
    "1. Open the `DataLab_1.ipynb` notebook to start the practical exercises.\n",
    "2. Follow the instructions provided in each cell to complete the tasks.\n",
    "3. Feel free to explore the documentation of OpenMC, Sandy, and NJOY for additional information.\n",
    "\n",
    "We hope you find this workshop informative and engaging!"
   ]
  }
 ],
 "metadata": {
  "kernelspec": {
   "display_name": "Python 3",
   "language": "python",
   "name": "python3"
  },
  "language_info": {
   "codemirror_mode": {
    "name": "ipython",
    "version": 3
   },
   "file_extension": ".py",
   "mimetype": "text/x-python",
   "name": "python",
   "nbconvert_exporter": "python",
   "pygments_lexer": "ipython3",
   "version": "3.8.5"
  }
 },
 "nbformat": 4,
 "nbformat_minor": 4
}